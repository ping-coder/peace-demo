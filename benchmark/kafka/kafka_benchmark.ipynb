{
 "cells": [
  {
   "cell_type": "markdown",
   "id": "0b57d425-c5e2-4ee4-b7c1-2cc3d4bb1a2d",
   "metadata": {},
   "source": [
    "## Kafka Benchmark"
   ]
  },
  {
   "cell_type": "markdown",
   "id": "8aca97ef-33fd-47c3-9069-05809e76a6cf",
   "metadata": {},
   "source": [
    "### Managed Kafka on GCP"
   ]
  },
  {
   "cell_type": "markdown",
   "id": "037859b9-b5b1-4e05-8485-16d860f35181",
   "metadata": {},
   "source": [
    "#### 1. Create a Kafka instance"
   ]
  },
  {
   "cell_type": "code",
   "execution_count": 5,
   "id": "df325aa0-ef42-4cc1-bc99-40300cae5203",
   "metadata": {
    "tags": []
   },
   "outputs": [
    {
     "name": "stdout",
     "output_type": "stream",
     "text": [
      "env: PROJECT_ID=peace-demo\n",
      "env: LOCATION=us-central1\n",
      "env: SUBNET=default\n",
      "env: KAFKA_ID=demo-etl-kafka-instance\n",
      "env: TOPIC_ID=benchmark_1\n",
      "env: CLIENT_PROPS=/home/client.properties\n",
      "env: GCS_PATH=gs://peace-demo-temp-us-central1/kafka_benchmark_1_to_gcs/\n",
      "env: JOB_NAME=kafka-benchmark1-to-gcs\n"
     ]
    }
   ],
   "source": [
    "%set_env PROJECT_ID=peace-demo\n",
    "%set_env LOCATION=us-central1\n",
    "%set_env SUBNET=default\n",
    "%set_env KAFKA_ID=demo-etl-kafka-instance\n",
    "%set_env TOPIC_ID=benchmark_1\n",
    "%set_env CLIENT_PROPS=/home/client.properties\n",
    "%set_env GCS_PATH=gs://peace-demo-temp-us-central1/kafka_benchmark_1_to_gcs/\n",
    "%set_env JOB_NAME=kafka-benchmark1-to-gcs"
   ]
  },
  {
   "cell_type": "code",
   "execution_count": 2,
   "id": "b5d61ee4-7f19-47f7-aad8-a1f3a294e629",
   "metadata": {
    "tags": []
   },
   "outputs": [
    {
     "name": "stdout",
     "output_type": "stream",
     "text": [
      "Create request issued for: [demo-etl-kafka-instance]\n",
      "Waiting for operation [projects/peace-demo/locations/us-central1/operations/ope\n",
      "ration-1727421379920-62314a1ba41d7-eb75bec1-081078c5] to complete...done.      \n",
      "Created cluster [demo-etl-kafka-instance].\n",
      "\n",
      "\n",
      "To take a quick anonymous survey, run:\n",
      "  $ gcloud survey\n",
      "\n"
     ]
    }
   ],
   "source": [
    "!gcloud beta managed-kafka clusters create $KAFKA_ID \\\n",
    "    --location=$LOCATION \\\n",
    "    --cpu=3 \\\n",
    "    --memory=3221225472 \\\n",
    "    --subnets=projects/$PROJECT_ID/regions/$LOCATION/subnetworks/$SUBNET \\\n",
    "    --auto-rebalance"
   ]
  },
  {
   "cell_type": "markdown",
   "id": "9d09557e-acec-4de5-b747-4f44a708c030",
   "metadata": {
    "tags": []
   },
   "source": [
    "#### 2. Create a Topic"
   ]
  },
  {
   "cell_type": "code",
   "execution_count": 3,
   "id": "d361015a-98b9-4093-9c3e-79b2999377c9",
   "metadata": {
    "tags": []
   },
   "outputs": [
    {
     "name": "stdout",
     "output_type": "stream",
     "text": [
      "Created topic [benchmark_1].\n"
     ]
    }
   ],
   "source": [
    "!gcloud beta managed-kafka topics create $TOPIC_ID \\\n",
    "    --cluster=$KAFKA_ID --location=$LOCATION \\\n",
    "    --partitions=3 \\\n",
    "    --replication-factor=1"
   ]
  },
  {
   "cell_type": "markdown",
   "id": "3530612c-cb70-4102-8d1a-77648c91500e",
   "metadata": {},
   "source": [
    "#### 3. Create a Dataflow job from Kafka to GCS"
   ]
  },
  {
   "cell_type": "code",
   "execution_count": 7,
   "id": "194675c3-6932-472a-8c65-69b381810bd4",
   "metadata": {
    "tags": []
   },
   "outputs": [
    {
     "name": "stdout",
     "output_type": "stream",
     "text": [
      "job:\n",
      "  createTime: '2024-09-27T09:21:35.803677Z'\n",
      "  currentStateTime: '1970-01-01T00:00:00Z'\n",
      "  id: 2024-09-27_02_21_35-162507244572144438\n",
      "  location: us-central1\n",
      "  name: kafka-benchmark1-to-gcs\n",
      "  projectId: peace-demo\n",
      "  startTime: '2024-09-27T09:21:35.803677Z'\n"
     ]
    }
   ],
   "source": [
    "!gcloud dataflow flex-template run $JOB_NAME \\\n",
    "    --template-file-gcs-location gs://dataflow-templates-$LOCATION/latest/flex/Kafka_to_Gcs_Flex \\\n",
    "    --region $LOCATION \\\n",
    "    --num-workers 1 \\\n",
    "    --parameters readBootstrapServerAndTopic=projects/$PROJECT_ID/locations/$LOCATION/clusters/$KAFKA_ID/topics/$TOPIC_ID,\\\n",
    "    --parameters windowDuration=5m,\\\n",
    "    --parameters outputDirectory=$GCS_PATH,\\\n",
    "    --parameters outputFilenamePrefix=output-,\\\n",
    "    --parameters numShards=0,\\\n",
    "    --parameters enableCommitOffsets=false,\\\n",
    "    --parameters kafkaReadOffset=latest,\\\n",
    "    --parameters kafkaReadAuthenticationMode=APPLICATION_DEFAULT_CREDENTIALS,\\\n",
    "    --parameters messageFormat=JSON,\\\n",
    "    --parameters useBigQueryDLQ=false,\\\n",
    "    --parameters autoscalingAlgorithm=NONE"
   ]
  },
  {
   "cell_type": "markdown",
   "id": "2ade85e6-aec9-498c-87e3-4f630bfca3e4",
   "metadata": {},
   "source": [
    "#### 4. Install golang and run the benchmark job."
   ]
  },
  {
   "cell_type": "markdown",
   "id": "22c656a3-b869-404b-a56e-06f44b6c4a82",
   "metadata": {},
   "source": [
    "- (Optional) Create a benchmark instance\n",
    "```bash\n",
    "gcloud compute instances create instance-kafka-benchmark \\\n",
    "    --project=peace-demo \\\n",
    "    --zone=us-central1-c \\\n",
    "    --machine-type=n2d-standard-8 \\\n",
    "    --network-interface=network-tier=PREMIUM,stack-type=IPV4_ONLY,subnet=default \\\n",
    "    --metadata=enable-osconfig=TRUE,enable-oslogin=true \\\n",
    "    --no-restart-on-failure \\\n",
    "    --maintenance-policy=TERMINATE \\\n",
    "    --provisioning-model=SPOT \\\n",
    "    --instance-termination-action=STOP \\\n",
    "    --max-run-duration=21600s \\\n",
    "    --service-account=642598805451-compute@developer.gserviceaccount.com \\\n",
    "    --scopes=https://www.googleapis.com/auth/cloud-platform \\\n",
    "    --create-disk=auto-delete=yes,boot=yes,device-name=instance-20240927-115233,image=projects/debian-cloud/global/images/debian-12-bookworm-v20240910,mode=rw,size=100,type=pd-balanced \\\n",
    "    --no-shielded-secure-boot \\\n",
    "    --shielded-vtpm \\\n",
    "    --shielded-integrity-monitoring \\\n",
    "    --labels=goog-ops-agent-policy=v2-x86-template-1-3-0,goog-ec-src=vm_add-gcloud \\\n",
    "    --reservation-affinity=any\n",
    "```\n",
    "- Install golang\n",
    "```bash\n",
    "sudo su root\n",
    "apt update -y\n",
    "wget https://go.dev/dl/go1.23.1.linux-amd64.tar.gz\n",
    "rm -rf /usr/local/go && sudo tar -C /usr/local -xzf go1.23.1.linux-amd64.tar.gz\n",
    "export PATH=$PATH:/usr/local/go/bin\n",
    "go version\n",
    "```\n",
    "- init go mod and get libraries\n",
    "```bash\n",
    "cd /home/jupyter/github/peace-demo/benchmark/kafka\n",
    "go mod init github.com/ping.coder/peace-demo/benchmark-kafka\n",
    "go get -u github.com/confluentinc/confluent-kafka-go/kafka\n",
    "go get -u cloud.google.com/go/bigquery\n",
    "```\n",
    "- Run benchmark\n",
    "```bash\n",
    "go run kafka_benchmark.go\n",
    "```"
   ]
  },
  {
   "cell_type": "markdown",
   "id": "61e74118-ea58-4a44-9227-706844230670",
   "metadata": {},
   "source": [
    "## Ended to release all the resources."
   ]
  },
  {
   "cell_type": "code",
   "execution_count": null,
   "id": "c630f575-ab13-49a8-bf48-7d7ecb571e6f",
   "metadata": {},
   "outputs": [],
   "source": [
    "!gcloud dataflow jobs list --region=$LOCATION --status=active --format=\"value(JOB_ID)\" --filter=\"name=$JOB_NAME\" | tail -n 1 | cut -f 1 -d \" \""
   ]
  },
  {
   "cell_type": "markdown",
   "id": "ab3a79de-6e52-407c-83ca-f1fafe174857",
   "metadata": {},
   "source": [
    "Please modify the job id with above result and run it."
   ]
  },
  {
   "cell_type": "code",
   "execution_count": null,
   "id": "e36b23ae-dd93-4bf0-bfd3-f081148eb747",
   "metadata": {},
   "outputs": [],
   "source": [
    "!echo y|gcloud dataflow jobs cancel <job-id> --region=$LOCATION\n",
    "!gcloud storage rm --recursive $GCS_PATH\n",
    "!echo y|gcloud beta managed-kafka clusters delete $KAFKA_ID \\\n",
    "    --location=$LOCATION \\\n",
    "    --async"
   ]
  },
  {
   "cell_type": "markdown",
   "id": "9f25ab89-76e1-450a-bfc8-1ee232052b22",
   "metadata": {},
   "source": [
    "## THE END."
   ]
  },
  {
   "cell_type": "code",
   "execution_count": null,
   "id": "bed69a27-cdee-427e-82e3-066f63cb674c",
   "metadata": {},
   "outputs": [],
   "source": []
  }
 ],
 "metadata": {
  "environment": {
   "kernel": "conda-base-py",
   "name": "workbench-notebooks.m124",
   "type": "gcloud",
   "uri": "us-docker.pkg.dev/deeplearning-platform-release/gcr.io/workbench-notebooks:m124"
  },
  "kernelspec": {
   "display_name": "Python 3 (ipykernel) (Local)",
   "language": "python",
   "name": "conda-base-py"
  },
  "language_info": {
   "codemirror_mode": {
    "name": "ipython",
    "version": 3
   },
   "file_extension": ".py",
   "mimetype": "text/x-python",
   "name": "python",
   "nbconvert_exporter": "python",
   "pygments_lexer": "ipython3",
   "version": "3.10.14"
  }
 },
 "nbformat": 4,
 "nbformat_minor": 5
}
