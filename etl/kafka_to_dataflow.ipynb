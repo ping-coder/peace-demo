{
 "cells": [
  {
   "cell_type": "markdown",
   "id": "0cc0c97b-b70f-459a-9ed9-57f8c0983c2e",
   "metadata": {
    "tags": []
   },
   "source": [
    "# ETL Demo - Kafka -> Dataflow\n",
    "\n",
    "## Initialize."
   ]
  },
  {
   "cell_type": "code",
   "execution_count": 1,
   "id": "07d59ab6-b5f9-4ba1-ac87-28fd47010cab",
   "metadata": {
    "tags": []
   },
   "outputs": [
    {
     "name": "stdout",
     "output_type": "stream",
     "text": [
      "env: PROJECT_ID=peace-demo\n",
      "env: LOCATION=us-central1\n",
      "env: SUBNET=default\n",
      "env: KAFKA_ID=demo-etl-kafka-instance\n",
      "env: TOPIC_ID=topic_1\n"
     ]
    }
   ],
   "source": [
    "%set_env PROJECT_ID=peace-demo\n",
    "%set_env LOCATION=us-central1\n",
    "%set_env SUBNET=default\n",
    "%set_env KAFKA_ID=demo-etl-kafka-instance\n",
    "%set_env TOPIC_ID=topic_1"
   ]
  },
  {
   "cell_type": "markdown",
   "id": "d2522910-4f68-40aa-9524-357501d05c35",
   "metadata": {},
   "source": [
    "## 1. Create a Managed Kafka instance on GCP"
   ]
  },
  {
   "cell_type": "code",
   "execution_count": 9,
   "id": "ab1239b3-2cda-49c2-a3e6-b1d9bf9c7872",
   "metadata": {
    "tags": []
   },
   "outputs": [
    {
     "name": "stdout",
     "output_type": "stream",
     "text": [
      "Create request issued for: [demo-etl-kafka-instance]\n",
      "Check operation [projects/peace-demo/locations/us-central1/operations/operation-1725603459363-6216d5d37f2e1-64610bbe-8ebba432] for status.\n"
     ]
    }
   ],
   "source": [
    "!gcloud beta managed-kafka clusters create $KAFKA_ID \\\n",
    "    --location=$LOCATION \\\n",
    "    --cpu=3 \\\n",
    "    --memory=3221225472 \\\n",
    "    --subnets=projects/$PROJECT_ID/regions/$LOCATION/subnetworks/$SUBNET \\\n",
    "    --auto-rebalance \\\n",
    "    --async"
   ]
  },
  {
   "cell_type": "markdown",
   "id": "3873b99b-23d5-415b-9b74-ad0800e38958",
   "metadata": {},
   "source": [
    "## 2. Create a Topic"
   ]
  },
  {
   "cell_type": "code",
   "execution_count": 4,
   "id": "c6e4a166-6e3e-4bb7-9bf3-2f1341329989",
   "metadata": {
    "tags": []
   },
   "outputs": [
    {
     "name": "stdout",
     "output_type": "stream",
     "text": [
      "Created topic [topic_1].\n"
     ]
    }
   ],
   "source": [
    "!gcloud beta managed-kafka topics create $TOPIC_ID \\\n",
    "    --cluster=$KAFKA_ID --location=$LOCATION \\\n",
    "    --partitions=2 \\\n",
    "    --replication-factor=1"
   ]
  },
  {
   "cell_type": "markdown",
   "id": "7a5a5ba7-6927-4b2b-b58f-9b952f7e7a72",
   "metadata": {
    "tags": []
   },
   "source": [
    "## Ended to release all the resources."
   ]
  },
  {
   "cell_type": "code",
   "execution_count": 5,
   "id": "2806b753-e508-411c-8964-437df01e3f54",
   "metadata": {},
   "outputs": [
    {
     "name": "stdout",
     "output_type": "stream",
     "text": [
      "You are about to delete cluster [demo-etl-kafka-instance]\n",
      "\n",
      "Do you want to continue (Y/n)?  \n",
      "Delete request issued for: [demo-etl-kafka-instance]\n",
      "Check operation [projects/peace-demo/locations/us-central1/operations/operation-1725608182440-6216e76bc6395-4d3bd939-912626ad] for status.\n"
     ]
    }
   ],
   "source": [
    "!echo y|gcloud beta managed-kafka clusters delete $KAFKA_ID \\\n",
    "    --location=$LOCATION \\\n",
    "    --async"
   ]
  },
  {
   "cell_type": "code",
   "execution_count": null,
   "id": "9c803a10-2c5e-4d2e-9fd8-587f01aebb75",
   "metadata": {},
   "outputs": [],
   "source": []
  }
 ],
 "metadata": {
  "environment": {
   "kernel": "conda-base-py",
   "name": "workbench-notebooks.m124",
   "type": "gcloud",
   "uri": "us-docker.pkg.dev/deeplearning-platform-release/gcr.io/workbench-notebooks:m124"
  },
  "kernelspec": {
   "display_name": "Python 3 (ipykernel) (Local)",
   "language": "python",
   "name": "conda-base-py"
  },
  "language_info": {
   "codemirror_mode": {
    "name": "ipython",
    "version": 3
   },
   "file_extension": ".py",
   "mimetype": "text/x-python",
   "name": "python",
   "nbconvert_exporter": "python",
   "pygments_lexer": "ipython3",
   "version": "3.10.14"
  }
 },
 "nbformat": 4,
 "nbformat_minor": 5
}
