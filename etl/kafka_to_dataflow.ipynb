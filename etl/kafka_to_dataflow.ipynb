{
 "cells": [
  {
   "cell_type": "markdown",
   "id": "0cc0c97b-b70f-459a-9ed9-57f8c0983c2e",
   "metadata": {
    "tags": []
   },
   "source": [
    "# ETL Demo - Kafka -> Dataflow\n",
    "\n",
    "## Initialize."
   ]
  },
  {
   "cell_type": "code",
   "execution_count": 1,
   "id": "07d59ab6-b5f9-4ba1-ac87-28fd47010cab",
   "metadata": {
    "tags": []
   },
   "outputs": [
    {
     "name": "stdout",
     "output_type": "stream",
     "text": [
      "env: PROJECT_ID=peace-demo\n",
      "env: LOCATION=us-central1\n",
      "env: SUBNET=default\n",
      "env: KAFKA_ID=demo-etl-kafka-instance\n",
      "env: TOPIC_ID=topic_1\n",
      "env: CLIENT_PROPS=/home/client.properties\n",
      "env: GCS_PATH=gs://peace-demo-temp-us-central1/kafka_topic1_to_gcs/\n",
      "env: JOB_NAME=kafka-topic1-to-gcs\n"
     ]
    }
   ],
   "source": [
    "%set_env PROJECT_ID=peace-demo\n",
    "%set_env LOCATION=us-central1\n",
    "%set_env SUBNET=default\n",
    "%set_env KAFKA_ID=demo-etl-kafka-instance\n",
    "%set_env TOPIC_ID=topic_1\n",
    "%set_env CLIENT_PROPS=/home/client.properties\n",
    "%set_env GCS_PATH=gs://peace-demo-temp-us-central1/kafka_topic1_to_gcs/\n",
    "%set_env JOB_NAME=kafka-topic1-to-gcs"
   ]
  },
  {
   "cell_type": "code",
   "execution_count": 8,
   "id": "7f4802ad-03d6-4ba9-8f6d-07d9eedea776",
   "metadata": {
    "tags": []
   },
   "outputs": [
    {
     "name": "stdout",
     "output_type": "stream",
     "text": [
      "Found existing installation: kafka-python 2.0.2\n",
      "Uninstalling kafka-python-2.0.2:\n",
      "  Would remove:\n",
      "    /opt/conda/lib/python3.10/site-packages/kafka/*\n",
      "    /opt/conda/lib/python3.10/site-packages/kafka_python-2.0.2.dist-info/*\n",
      "Proceed (Y/n)?   Successfully uninstalled kafka-python-2.0.2\n",
      "Collecting kafka-python\n",
      "  Using cached kafka_python-2.0.2-py2.py3-none-any.whl (246 kB)\n",
      "Installing collected packages: kafka-python\n",
      "Successfully installed kafka-python-2.0.2\n"
     ]
    }
   ],
   "source": [
    "!echo 'y' | pip uninstall kafka-python\n",
    "!pip install kafka-python"
   ]
  },
  {
   "cell_type": "markdown",
   "id": "d2522910-4f68-40aa-9524-357501d05c35",
   "metadata": {},
   "source": [
    "## 1. Create a Managed Kafka instance on GCP"
   ]
  },
  {
   "cell_type": "code",
   "execution_count": 2,
   "id": "ab1239b3-2cda-49c2-a3e6-b1d9bf9c7872",
   "metadata": {
    "tags": []
   },
   "outputs": [
    {
     "name": "stdout",
     "output_type": "stream",
     "text": [
      "Create request issued for: [demo-etl-kafka-instance]\n",
      "Check operation [projects/peace-demo/locations/us-central1/operations/operation-1726045803209-621d45af76302-c908fb2b-a5a54a7d] for status.\n"
     ]
    }
   ],
   "source": [
    "!gcloud beta managed-kafka clusters create $KAFKA_ID \\\n",
    "    --location=$LOCATION \\\n",
    "    --cpu=3 \\\n",
    "    --memory=3221225472 \\\n",
    "    --subnets=projects/$PROJECT_ID/regions/$LOCATION/subnetworks/$SUBNET \\\n",
    "    --auto-rebalance"
   ]
  },
  {
   "cell_type": "markdown",
   "id": "3873b99b-23d5-415b-9b74-ad0800e38958",
   "metadata": {},
   "source": [
    "## 2. Create a Topic"
   ]
  },
  {
   "cell_type": "code",
   "execution_count": 3,
   "id": "c6e4a166-6e3e-4bb7-9bf3-2f1341329989",
   "metadata": {
    "tags": []
   },
   "outputs": [
    {
     "name": "stdout",
     "output_type": "stream",
     "text": [
      "Created topic [topic_1].\n"
     ]
    }
   ],
   "source": [
    "!gcloud beta managed-kafka topics create $TOPIC_ID \\\n",
    "    --cluster=$KAFKA_ID --location=$LOCATION \\\n",
    "    --partitions=2 \\\n",
    "    --replication-factor=1"
   ]
  },
  {
   "cell_type": "markdown",
   "id": "3491f131-51be-49f7-8258-9ee6da8bea4d",
   "metadata": {
    "tags": []
   },
   "source": [
    "## 3. Create a Dataflow job from Kafka to GCS"
   ]
  },
  {
   "cell_type": "code",
   "execution_count": 7,
   "id": "af41310b-419d-4965-b468-0fed7b0c5465",
   "metadata": {
    "tags": []
   },
   "outputs": [
    {
     "name": "stdout",
     "output_type": "stream",
     "text": [
      "job:\n",
      "  createTime: '2024-09-11T09:33:04.976600Z'\n",
      "  currentStateTime: '1970-01-01T00:00:00Z'\n",
      "  id: 2024-09-11_02_33_04-15064206313907812191\n",
      "  location: us-central1\n",
      "  name: kafka-topic1-to-gcs\n",
      "  projectId: peace-demo\n",
      "  startTime: '2024-09-11T09:33:04.976600Z'\n"
     ]
    }
   ],
   "source": [
    "!gcloud dataflow flex-template run $JOB_NAME \\\n",
    "    --template-file-gcs-location gs://dataflow-templates-$LOCATION/latest/flex/Kafka_to_Gcs_Flex \\\n",
    "    --region $LOCATION \\\n",
    "    --num-workers 1 \\\n",
    "    --parameters readBootstrapServerAndTopic=projects/$PROJECT_ID/locations/$LOCATION/clusters/$KAFKA_ID/topics/$TOPIC_ID,\\\n",
    "    --parameters windowDuration=5m,\\\n",
    "    --parameters outputDirectory=$GCS_PATH,\\\n",
    "    --parameters outputFilenamePrefix=output-,\\\n",
    "    --parameters numShards=0,\\\n",
    "    --parameters enableCommitOffsets=false,\\\n",
    "    --parameters kafkaReadOffset=latest,\\\n",
    "    --parameters kafkaReadAuthenticationMode=APPLICATION_DEFAULT_CREDENTIALS,\\\n",
    "    --parameters messageFormat=JSON,\\\n",
    "    --parameters useBigQueryDLQ=false,\\\n",
    "    --parameters autoscalingAlgorithm=NONE"
   ]
  },
  {
   "cell_type": "markdown",
   "id": "5ac71c59-500f-4ac9-923c-22212cbb9e1e",
   "metadata": {},
   "source": [
    "# 4. Publish data from GCS to Kafka"
   ]
  },
  {
   "cell_type": "code",
   "execution_count": 5,
   "id": "287d9dcd-3287-4342-b898-787bd767163c",
   "metadata": {
    "tags": []
   },
   "outputs": [
    {
     "name": "stdout",
     "output_type": "stream",
     "text": [
      "sending message:{\"ss_sold_date_sk\":2452589,\"ss_sold_time_sk\":70807,\"ss_item_sk\":32695,\"ss_customer_sk\":688176,\"ss_cdemo_sk\":152464,\"ss_hdemo_sk\":1905,\"ss_addr_sk\":93546,\"ss_store_sk\":67,\"ss_promo_sk\":49,\"ss_ticket_number\":9835950,\"ss_quantity\":47,\"ss_wholesale_cost\":\"71.23\",\"ss_list_price\":\"92.59\",\"ss_sales_price\":\"86.1\",\"ss_ext_discount_amt\":0,\"ss_ext_sales_price\":\"4046.7\",\"ss_ext_wholesale_cost\":\"3347.81\",\"ss_ext_list_price\":\"4351.73\",\"ss_ext_tax\":\"283.26\",\"ss_coupon_amt\":0,\"ss_net_paid\":\"4046.7\",\"ss_net_paid_inc_tax\":\"4329.96\",\"ss_net_profit\":\"698.89\"}\n",
      "sending message:{\"ss_sold_date_sk\":2452589,\"ss_sold_time_sk\":null,\"ss_item_sk\":23125,\"ss_customer_sk\":null,\"ss_cdemo_sk\":null,\"ss_hdemo_sk\":1905,\"ss_addr_sk\":93546,\"ss_store_sk\":null,\"ss_promo_sk\":235,\"ss_ticket_number\":9835950,\"ss_quantity\":null,\"ss_wholesale_cost\":\"13.59\",\"ss_list_price\":\"25.68\",\"ss_sales_price\":null,\"ss_ext_discount_amt\":0,\"ss_ext_sales_price\":874,\"ss_ext_wholesale_cost\":\"625.14\",\"ss_ext_list_price\":null,\"ss_ext_tax\":\"17.48\",\"ss_coupon_amt\":0,\"ss_net_paid\":874,\"ss_net_paid_inc_tax\":\"891.48\",\"ss_net_profit\":\"248.86\"}\n",
      "sending message:{\"ss_sold_date_sk\":2452589,\"ss_sold_time_sk\":null,\"ss_item_sk\":14281,\"ss_customer_sk\":null,\"ss_cdemo_sk\":152464,\"ss_hdemo_sk\":null,\"ss_addr_sk\":93546,\"ss_store_sk\":67,\"ss_promo_sk\":494,\"ss_ticket_number\":9835950,\"ss_quantity\":null,\"ss_wholesale_cost\":\"67.99\",\"ss_list_price\":\"83.62\",\"ss_sales_price\":\"58.53\",\"ss_ext_discount_amt\":null,\"ss_ext_sales_price\":\"1287.66\",\"ss_ext_wholesale_cost\":\"1495.78\",\"ss_ext_list_price\":null,\"ss_ext_tax\":null,\"ss_coupon_amt\":null,\"ss_net_paid\":\"721.09\",\"ss_net_paid_inc_tax\":\"721.09\",\"ss_net_profit\":null}\n",
      "sending message:{\"ss_sold_date_sk\":2452589,\"ss_sold_time_sk\":70807,\"ss_item_sk\":18211,\"ss_customer_sk\":688176,\"ss_cdemo_sk\":152464,\"ss_hdemo_sk\":1905,\"ss_addr_sk\":93546,\"ss_store_sk\":67,\"ss_promo_sk\":254,\"ss_ticket_number\":9835950,\"ss_quantity\":20,\"ss_wholesale_cost\":\"84.65\",\"ss_list_price\":\"155.75\",\"ss_sales_price\":\"138.61\",\"ss_ext_discount_amt\":0,\"ss_ext_sales_price\":\"2772.2\",\"ss_ext_wholesale_cost\":1693,\"ss_ext_list_price\":3115,\"ss_ext_tax\":\"138.61\",\"ss_coupon_amt\":0,\"ss_net_paid\":\"2772.2\",\"ss_net_paid_inc_tax\":\"2910.81\",\"ss_net_profit\":\"1079.2\"}\n",
      "sending message:{\"ss_sold_date_sk\":2451643,\"ss_sold_time_sk\":48688,\"ss_item_sk\":25238,\"ss_customer_sk\":646954,\"ss_cdemo_sk\":1862809,\"ss_hdemo_sk\":3817,\"ss_addr_sk\":190872,\"ss_store_sk\":13,\"ss_promo_sk\":220,\"ss_ticket_number\":9835951,\"ss_quantity\":8,\"ss_wholesale_cost\":\"48.85\",\"ss_list_price\":\"58.13\",\"ss_sales_price\":\"29.06\",\"ss_ext_discount_amt\":0,\"ss_ext_sales_price\":\"232.48\",\"ss_ext_wholesale_cost\":\"390.8\",\"ss_ext_list_price\":\"465.04\",\"ss_ext_tax\":\"6.97\",\"ss_coupon_amt\":0,\"ss_net_paid\":\"232.48\",\"ss_net_paid_inc_tax\":\"239.45\",\"ss_net_profit\":\"-158.32\"}\n",
      "sended finished.\n",
      "partition: 0 , noffset: 20\n",
      "partition: 0 , noffset: 21\n",
      "partition: 0 , noffset: 22\n",
      "partition: 0 , noffset: 23\n",
      "partition: 1 , noffset: 15\n"
     ]
    }
   ],
   "source": [
    "from google.cloud import bigquery\n",
    "from kafka import KafkaProducer\n",
    "import json as json\n",
    "import os\n",
    "                  \n",
    "project_id = os.environ['PROJECT_ID']\n",
    "location = os.environ['LOCATION']\n",
    "kafka_id = os.environ['KAFKA_ID']\n",
    "topic_id = os.environ['TOPIC_ID']\n",
    "client_file = os.environ['CLIENT_PROPS']\n",
    "username = \"\"\n",
    "password = \"\"\n",
    "\n",
    "# read client properties file: client.properties\n",
    "# username=\"\"\n",
    "# password=\"\"\n",
    "separator = \"=\"\n",
    "with open(client_file) as f:\n",
    "    for line in f:\n",
    "        if separator in line:\n",
    "            name, value = line.split(separator, 1)\n",
    "            if name.strip() == \"username\":\n",
    "                username=value.strip()\n",
    "            elif name.strip() == \"password\":\n",
    "                password=value.strip()\n",
    "\n",
    "# Set up Kafka producer\n",
    "def serializer(message):\n",
    "    return json.dumps(message).encode('utf-8')\n",
    "\n",
    "def on_send_success(record_metadata):\n",
    "    print('partition:', record_metadata.partition, ', noffset:', record_metadata.offset)\n",
    "\n",
    "def on_send_error(excp):\n",
    "    log.error('I am an errback', exc_info=excp)\n",
    "\n",
    "# Kafka Producer\n",
    "producer = KafkaProducer(\n",
    "    security_protocol=\"SASL_SSL\",\n",
    "    sasl_mechanism=\"PLAIN\",\n",
    "    sasl_plain_username=username,\n",
    "    sasl_plain_password=password,\n",
    "    bootstrap_servers=['bootstrap.'+kafka_id+'.'+location+'.managedkafka.'+project_id+'.cloud.goog:9092'],\n",
    "    value_serializer=serializer\n",
    ")\n",
    "                       \n",
    "client = bigquery.Client(project=project_id)\n",
    "query_job = client.query(\"\"\"\n",
    "   SELECT to_json_string(t) as json FROM `peace-demo.tpc_ds.store_sales` t LIMIT 5\n",
    "   \"\"\")\n",
    "results = query_job.result()\n",
    "for row in query_job:\n",
    "    print('sending message:'+row.json)\n",
    "    producer.send(topic_id, row.json).add_callback(on_send_success).add_errback(on_send_error)\n",
    "print('sended finished.')"
   ]
  },
  {
   "cell_type": "markdown",
   "id": "7a5a5ba7-6927-4b2b-b58f-9b952f7e7a72",
   "metadata": {
    "tags": []
   },
   "source": [
    "## Ended to release all the resources."
   ]
  },
  {
   "cell_type": "code",
   "execution_count": 43,
   "id": "6c968f40-4c9e-4466-ae4a-fa8735ac324c",
   "metadata": {
    "tags": []
   },
   "outputs": [
    {
     "name": "stdout",
     "output_type": "stream",
     "text": [
      "2024-09-10_10_15_01-5122018209602625939\n"
     ]
    }
   ],
   "source": [
    "!gcloud dataflow jobs list --region=$LOCATION --status=active --format=\"value(JOB_ID)\" --filter=\"name=$JOB_NAME\" | tail -n 1 | cut -f 1 -d \" \""
   ]
  },
  {
   "cell_type": "code",
   "execution_count": null,
   "id": "32fb7dbf-a5d1-4675-963c-6b5e9283a109",
   "metadata": {},
   "outputs": [],
   "source": [
    "Please modify the job id with above result and run it."
   ]
  },
  {
   "cell_type": "code",
   "execution_count": 45,
   "id": "408f6e1a-c2dd-47bd-b714-089eb460a50e",
   "metadata": {
    "tags": []
   },
   "outputs": [
    {
     "name": "stdout",
     "output_type": "stream",
     "text": [
      "Cancelled job [2024-09-10_10_15_01-5122018209602625939]\n"
     ]
    }
   ],
   "source": [
    "!echo y|gcloud dataflow jobs cancel 2024-09-10_10_15_01-5122018209602625939 --region=$LOCATION"
   ]
  },
  {
   "cell_type": "code",
   "execution_count": 46,
   "id": "3fdf579b-7295-4ca1-aae6-84a966744fda",
   "metadata": {
    "tags": []
   },
   "outputs": [
    {
     "name": "stdout",
     "output_type": "stream",
     "text": [
      "Removing objects:\n",
      "Skipping DeleteObjectTask for gs://peace-demo-temp-us-central1/kafka_topic1_to_gcs/#1725985195219701. This can occur if a cp command results in multiple writes to the same resource.\n",
      "Removing gs://peace-demo-temp-us-central1/kafka_topic1_to_gcs/#1725985195219701...\n",
      "Removing gs://peace-demo-temp-us-central1/kafka_topic1_to_gcs/output-2024-09-10T17:00:00.000Z-2024-09-10T18:00:00.000Z-pane-0-last-00-of-02.json#1725991204324708...\n",
      "Removing gs://peace-demo-temp-us-central1/kafka_topic1_to_gcs/output-2024-09-10T17:00:00.000Z-2024-09-10T18:00:00.000Z-pane-0-last-01-of-02.json#1725991204324605...\n",
      "  Completed 3/4                                                                \n"
     ]
    }
   ],
   "source": [
    "!gcloud storage rm --recursive $GCS_PATH"
   ]
  },
  {
   "cell_type": "code",
   "execution_count": 49,
   "id": "9c803a10-2c5e-4d2e-9fd8-587f01aebb75",
   "metadata": {},
   "outputs": [
    {
     "name": "stdout",
     "output_type": "stream",
     "text": [
      "You are about to delete cluster [demo-etl-kafka-instance]\n",
      "\n",
      "Do you want to continue (Y/n)?  \n",
      "Delete request issued for: [demo-etl-kafka-instance]\n",
      "Check operation [projects/peace-demo/locations/us-central1/operations/operation-1725991720903-621c7c368e53a-de10e1a7-bb34bb44] for status.\n"
     ]
    }
   ],
   "source": [
    "!echo y|gcloud beta managed-kafka clusters delete $KAFKA_ID \\\n",
    "    --location=$LOCATION \\\n",
    "    --async"
   ]
  },
  {
   "cell_type": "code",
   "execution_count": null,
   "id": "5c7d840f-a6d0-4229-86d2-3ad2499ecf90",
   "metadata": {},
   "outputs": [],
   "source": [
    "## THE END."
   ]
  }
 ],
 "metadata": {
  "environment": {
   "kernel": "conda-base-py",
   "name": "workbench-notebooks.m124",
   "type": "gcloud",
   "uri": "us-docker.pkg.dev/deeplearning-platform-release/gcr.io/workbench-notebooks:m124"
  },
  "kernelspec": {
   "display_name": "Python 3 (ipykernel) (Local)",
   "language": "python",
   "name": "conda-base-py"
  },
  "language_info": {
   "codemirror_mode": {
    "name": "ipython",
    "version": 3
   },
   "file_extension": ".py",
   "mimetype": "text/x-python",
   "name": "python",
   "nbconvert_exporter": "python",
   "pygments_lexer": "ipython3",
   "version": "3.10.14"
  }
 },
 "nbformat": 4,
 "nbformat_minor": 5
}
