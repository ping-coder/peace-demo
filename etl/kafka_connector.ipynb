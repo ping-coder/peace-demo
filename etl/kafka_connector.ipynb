{
 "cells": [
  {
   "cell_type": "markdown",
   "id": "347cae08-f7b4-445d-8e87-8b21c0abe7b5",
   "metadata": {},
   "source": [
    "# ETL Demo - Kafka -> Aiven's GCS Sink Connector for Apache Kafka\n",
    "\n",
    "[Aiven's GCS Sink Connector for Apache Kafka](https://github.com/Aiven-Open/commons-for-apache-kafka-connect/blob/main/gcs-connector/README.md#aivens-gcs-sink-connector-for-apache-kafka)"
   ]
  },
  {
   "cell_type": "code",
   "execution_count": null,
   "id": "ffbfab2e-ec7f-49bd-a6e2-6d17fbc61d74",
   "metadata": {},
   "outputs": [],
   "source": []
  }
 ],
 "metadata": {
  "environment": {
   "kernel": "bash",
   "name": "workbench-notebooks.m124",
   "type": "gcloud",
   "uri": "us-docker.pkg.dev/deeplearning-platform-release/gcr.io/workbench-notebooks:m124"
  },
  "kernelspec": {
   "display_name": "Bash (Local)",
   "language": "bash",
   "name": "bash"
  },
  "language_info": {
   "codemirror_mode": "shell",
   "file_extension": ".sh",
   "mimetype": "text/x-sh",
   "name": "bash"
  }
 },
 "nbformat": 4,
 "nbformat_minor": 5
}
